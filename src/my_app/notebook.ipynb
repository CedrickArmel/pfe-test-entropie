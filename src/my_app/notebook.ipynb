{
 "cells": [
  {
   "cell_type": "code",
   "execution_count": 1,
   "metadata": {},
   "outputs": [],
   "source": [
    "import pandas as pd\n",
    "import numpy as np\n",
    "import random\n",
    "from  math import log2\n",
    "from collections import Counter\n",
    "from cadsgen import generate_payload_agri_parcel_record\n",
    "from entropies import shannon_entropy_kde\n",
    "from shapley import sampling_kg"
   ]
  },
  {
   "attachments": {},
   "cell_type": "markdown",
   "metadata": {},
   "source": [
    "# CADS"
   ]
  },
  {
   "cell_type": "code",
   "execution_count": 2,
   "metadata": {},
   "outputs": [],
   "source": [
    "records = []\n",
    "for _ in range(100) :\n",
    "    records.append(generate_payload_agri_parcel_record())\n",
    "cads = pd.DataFrame(records)"
   ]
  },
  {
   "cell_type": "code",
   "execution_count": null,
   "metadata": {},
   "outputs": [],
   "source": [
    "cads_players = dict(player1 = list(cads.columns)[:5],\n",
    "               player2= list(cads.columns)[5:10],\n",
    "               player3= list(cads.columns)[10:15],\n",
    "               player4= list(cads.columns)[15:20],\n",
    "               player5= list(cads.columns)[20:30],\n",
    "               player6= list(cads.columns)[30:40],\n",
    "               player7= list(cads.columns)[40:])"
   ]
  },
  {
   "cell_type": "code",
   "execution_count": 5,
   "metadata": {},
   "outputs": [
    {
     "data": {
      "text/plain": [
       "0.462098120373297"
      ]
     },
     "execution_count": 5,
     "metadata": {},
     "output_type": "execute_result"
    }
   ],
   "source": [
    "shannon_entropy_kde(cads.values)"
   ]
  },
  {
   "cell_type": "code",
   "execution_count": null,
   "metadata": {},
   "outputs": [],
   "source": [
    "sampling_kg(cads, cads_players, 100)"
   ]
  },
  {
   "cell_type": "code",
   "execution_count": 44,
   "metadata": {},
   "outputs": [],
   "source": [
    "cads_players = dict(player1 = list(cads.columns)[:5],\n",
    "               player2= list(cads.columns)[5:10],\n",
    "               player3= list(cads.columns)[10:15],\n",
    "               player4= list(cads.columns)[15:20],\n",
    "               player5= list(cads.columns)[20:30],\n",
    "               player6= list(cads.columns)[30:40],\n",
    "               player7= list(cads.columns)[40:])\n",
    "\n",
    "players_f = dict(player1 = list(filtered_cads.columns)[:5],\n",
    "               player2= list(filtered_cads.columns)[5:10],\n",
    "               player3= list(filtered_cads.columns)[10:])\n",
    "\n",
    "player_df = dict(player1 = ['first'],\n",
    "                 player2 = ['scond'])\n",
    "\n",
    "players_aurea_f= dict(player1 = list(f_aurea.columns)[:5],\n",
    "               player2= list(f_aurea.columns)[5:10],\n",
    "               player3= list(f_aurea.columns)[10:15],\n",
    "               player4= list(f_aurea.columns)[15:20],\n",
    "               player5= list(f_aurea.columns)[20:30],\n",
    "               player6= list(f_aurea.columns)[30:40],\n",
    "               player7= list(f_aurea.columns)[40:])"
   ]
  },
  {
   "cell_type": "code",
   "execution_count": null,
   "metadata": {},
   "outputs": [],
   "source": []
  },
  {
   "attachments": {},
   "cell_type": "markdown",
   "metadata": {},
   "source": []
  }
 ],
 "metadata": {
  "kernelspec": {
   "display_name": "Python 3",
   "language": "python",
   "name": "python3"
  },
  "language_info": {
   "codemirror_mode": {
    "name": "ipython",
    "version": 3
   },
   "file_extension": ".py",
   "mimetype": "text/x-python",
   "name": "python",
   "nbconvert_exporter": "python",
   "pygments_lexer": "ipython3",
   "version": "3.9.17"
  },
  "orig_nbformat": 4
 },
 "nbformat": 4,
 "nbformat_minor": 2
}
