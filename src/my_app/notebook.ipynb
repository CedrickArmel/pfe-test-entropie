{
 "cells": [
  {
   "cell_type": "code",
   "execution_count": 1,
   "metadata": {},
   "outputs": [],
   "source": [
    "import pandas as pd\n",
    "import numpy as np\n",
    "import random\n",
    "from  math import log2\n",
    "from collections import Counter\n",
    "from cadsgen import generate_payload_agri_parcel_record\n",
    "from entropies import shannon_entropy_kde\n",
    "from shapley import sampling_kg"
   ]
  },
  {
   "attachments": {},
   "cell_type": "markdown",
   "metadata": {},
   "source": [
    "# CADS"
   ]
  },
  {
   "cell_type": "code",
   "execution_count": 2,
   "metadata": {},
   "outputs": [],
   "source": [
    "records = []\n",
    "for _ in range(100) :\n",
    "    records.append(generate_payload_agri_parcel_record())\n",
    "cads = pd.DataFrame(records)"
   ]
  },
  {
   "cell_type": "code",
   "execution_count": 3,
   "metadata": {},
   "outputs": [],
   "source": [
    "cads_players = dict(player1 = list(cads.columns)[:5],\n",
    "               player2= list(cads.columns)[5:10],\n",
    "               player3= list(cads.columns)[10:15],\n",
    "               player4= list(cads.columns)[15:20],\n",
    "               player5= list(cads.columns)[20:30],\n",
    "               player6= list(cads.columns)[30:40],\n",
    "               player7= list(cads.columns)[40:])"
   ]
  },
  {
   "cell_type": "code",
   "execution_count": 4,
   "metadata": {},
   "outputs": [
    {
     "data": {
      "text/plain": [
       "0.462098120373297"
      ]
     },
     "execution_count": 4,
     "metadata": {},
     "output_type": "execute_result"
    }
   ],
   "source": [
    "shannon_entropy_kde(cads.values)"
   ]
  },
  {
   "cell_type": "code",
   "execution_count": 5,
   "metadata": {},
   "outputs": [
    {
     "data": {
      "text/plain": [
       "{'player1': -0.0027742390726696693,\n",
       " 'player2': 0.0019804205158855757,\n",
       " 'player3': 0.0016272455238859709,\n",
       " 'player4': -0.006878660591842485,\n",
       " 'player5': -0.009073626663615632,\n",
       " 'player6': 0.009563780741297361,\n",
       " 'player7': 0.003988896989079516}"
      ]
     },
     "execution_count": 5,
     "metadata": {},
     "output_type": "execute_result"
    }
   ],
   "source": [
    "sampling_kg(cads, cads_players, 100)"
   ]
  },
  {
   "attachments": {},
   "cell_type": "markdown",
   "metadata": {},
   "source": [
    "# CROP - AUREA"
   ]
  },
  {
   "cell_type": "code",
   "execution_count": 10,
   "metadata": {},
   "outputs": [],
   "source": [
    "aurea = pd.read_excel('aurea.xlsx')"
   ]
  },
  {
   "cell_type": "code",
   "execution_count": 12,
   "metadata": {},
   "outputs": [],
   "source": [
    "aurea_players= dict(player1 = list(aurea.columns)[:5],\n",
    "               player2= list(aurea.columns)[5:10],\n",
    "               player3= list(aurea.columns)[10:15],\n",
    "               player4= list(aurea.columns)[15:20],\n",
    "               player5= list(aurea.columns)[20:30],\n",
    "               player6= list(aurea.columns)[30:40],\n",
    "               player7= list(aurea.columns)[40:])"
   ]
  },
  {
   "cell_type": "code",
   "execution_count": 13,
   "metadata": {},
   "outputs": [
    {
     "data": {
      "text/plain": [
       "0.6172804547851947"
      ]
     },
     "execution_count": 13,
     "metadata": {},
     "output_type": "execute_result"
    }
   ],
   "source": [
    "shannon_entropy_kde(aurea.values)"
   ]
  },
  {
   "cell_type": "code",
   "execution_count": 14,
   "metadata": {},
   "outputs": [
    {
     "data": {
      "text/plain": [
       "{'player1': -0.023172230113978686,\n",
       " 'player2': -0.02826373235459735,\n",
       " 'player3': -0.013813544298458373,\n",
       " 'player4': -0.024810844454026475,\n",
       " 'player5': -0.021546957498868355,\n",
       " 'player6': -0.0037216120981790517,\n",
       " 'player7': 0.005724208824534592}"
      ]
     },
     "execution_count": 14,
     "metadata": {},
     "output_type": "execute_result"
    }
   ],
   "source": [
    "sampling_kg(aurea, aurea_players, 100)"
   ]
  },
  {
   "cell_type": "code",
   "execution_count": 15,
   "metadata": {},
   "outputs": [
    {
     "name": "stdout",
     "output_type": "stream",
     "text": [
      "Failed to generate DID: argument 'jwk': 'dict' object cannot be converted to 'PyString'\n"
     ]
    }
   ],
   "source": [
    "import didkit\n",
    "\n",
    "def generate_did():\n",
    "    jwk = didkit.generate_ed25519_key()\n",
    "    did = didkit.key_to_did(\"key\", jwk)\n",
    "\n",
    "    try:\n",
    "        did = didkit.key_to_did(\"key\",jwk)\n",
    "        print(\"Generated DID:\", did)\n",
    "    except Exception as e:\n",
    "        print(\"Failed to generate DID:\", str(e))\n",
    "\n",
    "generate_did()"
   ]
  },
  {
   "cell_type": "code",
   "execution_count": 16,
   "metadata": {},
   "outputs": [
    {
     "ename": "TypeError",
     "evalue": "argument 'jwk': 'dict' object cannot be converted to 'PyString'",
     "output_type": "error",
     "traceback": [
      "\u001b[0;31m---------------------------------------------------------------------------\u001b[0m",
      "\u001b[0;31mTypeError\u001b[0m                                 Traceback (most recent call last)",
      "Cell \u001b[0;32mIn[16], line 3\u001b[0m\n\u001b[1;32m      1\u001b[0m key_type \u001b[39m=\u001b[39m \u001b[39m\"\u001b[39m\u001b[39mEd25519\u001b[39m\u001b[39m\"\u001b[39m\n\u001b[1;32m      2\u001b[0m key_options \u001b[39m=\u001b[39m {}\n\u001b[0;32m----> 3\u001b[0m didkit\u001b[39m.\u001b[39;49mkey_to_did(key_type, key_options)\n",
      "\u001b[0;31mTypeError\u001b[0m: argument 'jwk': 'dict' object cannot be converted to 'PyString'"
     ]
    }
   ],
   "source": [
    "key_type = \"Ed25519\"\n",
    "key_options = {}\n",
    "didkit.key_to_did(key_type, key_options)"
   ]
  },
  {
   "cell_type": "code",
   "execution_count": 26,
   "metadata": {},
   "outputs": [],
   "source": [
    "jwk = didkit.generate_ed25519_key()\n",
    "did = didkit.key_to_did(\"key\", jwk)"
   ]
  },
  {
   "cell_type": "code",
   "execution_count": 18,
   "metadata": {},
   "outputs": [
    {
     "data": {
      "text/plain": [
       "'{\"kty\":\"OKP\",\"crv\":\"Ed25519\",\"x\":\"_ODmT0OhOpxmGWJJoecB8dkoRNiPtzVRoeg3Nv5LOFU\",\"d\":\"8jfo7K2Jv8C6z2Ygiq-wLBZFjrvkddoCsKN9zdIlqQo\"}'"
      ]
     },
     "execution_count": 18,
     "metadata": {},
     "output_type": "execute_result"
    }
   ],
   "source": [
    "jwk"
   ]
  },
  {
   "cell_type": "code",
   "execution_count": 27,
   "metadata": {},
   "outputs": [
    {
     "data": {
      "text/plain": [
       "'did:key:z6MkoB8SBYTvDf3B7Yc33MNbZNT4dtZJeUciv5xtmqj71boh'"
      ]
     },
     "execution_count": 27,
     "metadata": {},
     "output_type": "execute_result"
    }
   ],
   "source": [
    "did"
   ]
  },
  {
   "cell_type": "code",
   "execution_count": null,
   "metadata": {},
   "outputs": [],
   "source": []
  }
 ],
 "metadata": {
  "kernelspec": {
   "display_name": "Python 3",
   "language": "python",
   "name": "python3"
  },
  "language_info": {
   "codemirror_mode": {
    "name": "ipython",
    "version": 3
   },
   "file_extension": ".py",
   "mimetype": "text/x-python",
   "name": "python",
   "nbconvert_exporter": "python",
   "pygments_lexer": "ipython3",
   "version": "3.9.17"
  },
  "orig_nbformat": 4
 },
 "nbformat": 4,
 "nbformat_minor": 2
}
